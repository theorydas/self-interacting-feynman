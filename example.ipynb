{
 "cells": [
  {
   "cell_type": "code",
   "execution_count": 2,
   "metadata": {},
   "outputs": [],
   "source": [
    "from sifn import *"
   ]
  },
  {
   "cell_type": "code",
   "execution_count": 11,
   "metadata": {},
   "outputs": [
    {
     "data": {
      "text/plain": [
       "[[('a_1', 'F_1'), ('a_2', 'b_3'), ('F_2', 'b_4')],\n",
       " [('a_1', 'F_1'), ('F_2', 'b_3'), ('a_2', 'b_4')],\n",
       " [('a_1', 'F_2'), ('a_2', 'b_3'), ('F_1', 'b_4')],\n",
       " [('a_1', 'F_2'), ('F_1', 'b_3'), ('a_2', 'b_4')],\n",
       " [('a_2', 'F_1'), ('a_1', 'b_3'), ('F_2', 'b_4')],\n",
       " [('a_2', 'F_2'), ('a_1', 'b_3'), ('F_1', 'b_4')],\n",
       " [('F_1', 'F_2'), ('a_1', 'b_3'), ('a_2', 'b_4')],\n",
       " [('a_2', 'F_1'), ('F_2', 'b_3'), ('a_1', 'b_4')],\n",
       " [('a_2', 'F_2'), ('F_1', 'b_3'), ('a_1', 'b_4')],\n",
       " [('F_1', 'F_2'), ('a_2', 'b_3'), ('a_1', 'b_4')]]"
      ]
     },
     "execution_count": 11,
     "metadata": {},
     "output_type": "execute_result"
    }
   ],
   "source": [
    "# Calculate the symbolic nodes for the Feynman Diagrams\n",
    "nodes = calculateFeynmanNodes(n_power = 1, k_term = 2, ni = 2, nf = 2)\n",
    "nodes"
   ]
  },
  {
   "cell_type": "code",
   "execution_count": null,
   "metadata": {},
   "outputs": [],
   "source": []
  }
 ],
 "metadata": {
  "file_extension": ".py",
  "kernelspec": {
   "display_name": "Python 3",
   "name": "python3"
  },
  "language_info": {
   "codemirror_mode": {
    "name": "ipython",
    "version": 3
   },
   "file_extension": ".py",
   "mimetype": "text/x-python",
   "name": "python",
   "nbconvert_exporter": "python",
   "pygments_lexer": "ipython3",
   "version": "3.9.9"
  },
  "mimetype": "text/x-python",
  "name": "python",
  "npconvert_exporter": "python",
  "orig_nbformat": 2,
  "pygments_lexer": "ipython3",
  "version": 3
 },
 "nbformat": 4,
 "nbformat_minor": 2
}
