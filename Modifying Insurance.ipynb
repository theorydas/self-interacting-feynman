{
 "nbformat": 4,
 "nbformat_minor": 2,
 "metadata": {
  "language_info": {
   "name": "python",
   "codemirror_mode": {
    "name": "ipython",
    "version": 3
   },
   "version": "3.7.7-final"
  },
  "orig_nbformat": 2,
  "file_extension": ".py",
  "mimetype": "text/x-python",
  "name": "python",
  "npconvert_exporter": "python",
  "pygments_lexer": "ipython3",
  "version": 3,
  "kernelspec": {
   "name": "python3",
   "display_name": "Python 3"
  }
 },
 "cells": [
  {
   "cell_type": "code",
   "execution_count": 1,
   "metadata": {},
   "outputs": [],
   "source": [
    "import pandas as pd\n",
    "import matplotlib.pyplot as plt\n",
    "import seaborn as sns\n",
    "#\n",
    "pd.plotting.register_matplotlib_converters()\n",
    "%matplotlib inline"
   ]
  },
  {
   "cell_type": "code",
   "execution_count": 31,
   "metadata": {},
   "outputs": [
    {
     "output_type": "execute_result",
     "data": {
      "text/plain": "      age     sex     bmi  children smoker     region      charges\n0      19  female  27.900         0    yes  southwest  16884.92400\n1      18    male  33.770         1     no  southeast   1725.55230\n2      28    male  33.000         3     no  southeast   4449.46200\n3      33    male  22.705         0     no  northwest  21984.47061\n4      32    male  28.880         0     no  northwest   3866.85520\n...   ...     ...     ...       ...    ...        ...          ...\n1333   50    male  30.970         3     no  northwest  10600.54830\n1334   18  female  31.920         0     no  northeast   2205.98080\n1335   18  female  36.850         0     no  southeast   1629.83350\n1336   21  female  25.800         0     no  southwest   2007.94500\n1337   61  female  29.070         0    yes  northwest  29141.36030\n\n[1338 rows x 7 columns]",
      "text/html": "<div>\n<style scoped>\n    .dataframe tbody tr th:only-of-type {\n        vertical-align: middle;\n    }\n\n    .dataframe tbody tr th {\n        vertical-align: top;\n    }\n\n    .dataframe thead th {\n        text-align: right;\n    }\n</style>\n<table border=\"1\" class=\"dataframe\">\n  <thead>\n    <tr style=\"text-align: right;\">\n      <th></th>\n      <th>age</th>\n      <th>sex</th>\n      <th>bmi</th>\n      <th>children</th>\n      <th>smoker</th>\n      <th>region</th>\n      <th>charges</th>\n    </tr>\n  </thead>\n  <tbody>\n    <tr>\n      <th>0</th>\n      <td>19</td>\n      <td>female</td>\n      <td>27.900</td>\n      <td>0</td>\n      <td>yes</td>\n      <td>southwest</td>\n      <td>16884.92400</td>\n    </tr>\n    <tr>\n      <th>1</th>\n      <td>18</td>\n      <td>male</td>\n      <td>33.770</td>\n      <td>1</td>\n      <td>no</td>\n      <td>southeast</td>\n      <td>1725.55230</td>\n    </tr>\n    <tr>\n      <th>2</th>\n      <td>28</td>\n      <td>male</td>\n      <td>33.000</td>\n      <td>3</td>\n      <td>no</td>\n      <td>southeast</td>\n      <td>4449.46200</td>\n    </tr>\n    <tr>\n      <th>3</th>\n      <td>33</td>\n      <td>male</td>\n      <td>22.705</td>\n      <td>0</td>\n      <td>no</td>\n      <td>northwest</td>\n      <td>21984.47061</td>\n    </tr>\n    <tr>\n      <th>4</th>\n      <td>32</td>\n      <td>male</td>\n      <td>28.880</td>\n      <td>0</td>\n      <td>no</td>\n      <td>northwest</td>\n      <td>3866.85520</td>\n    </tr>\n    <tr>\n      <th>...</th>\n      <td>...</td>\n      <td>...</td>\n      <td>...</td>\n      <td>...</td>\n      <td>...</td>\n      <td>...</td>\n      <td>...</td>\n    </tr>\n    <tr>\n      <th>1333</th>\n      <td>50</td>\n      <td>male</td>\n      <td>30.970</td>\n      <td>3</td>\n      <td>no</td>\n      <td>northwest</td>\n      <td>10600.54830</td>\n    </tr>\n    <tr>\n      <th>1334</th>\n      <td>18</td>\n      <td>female</td>\n      <td>31.920</td>\n      <td>0</td>\n      <td>no</td>\n      <td>northeast</td>\n      <td>2205.98080</td>\n    </tr>\n    <tr>\n      <th>1335</th>\n      <td>18</td>\n      <td>female</td>\n      <td>36.850</td>\n      <td>0</td>\n      <td>no</td>\n      <td>southeast</td>\n      <td>1629.83350</td>\n    </tr>\n    <tr>\n      <th>1336</th>\n      <td>21</td>\n      <td>female</td>\n      <td>25.800</td>\n      <td>0</td>\n      <td>no</td>\n      <td>southwest</td>\n      <td>2007.94500</td>\n    </tr>\n    <tr>\n      <th>1337</th>\n      <td>61</td>\n      <td>female</td>\n      <td>29.070</td>\n      <td>0</td>\n      <td>yes</td>\n      <td>northwest</td>\n      <td>29141.36030</td>\n    </tr>\n  </tbody>\n</table>\n<p>1338 rows × 7 columns</p>\n</div>"
     },
     "metadata": {},
     "execution_count": 31
    }
   ],
   "source": [
    "modified = pd.read_csv(\"input/insurance_modified.csv\")\n",
    "modified"
   ]
  },
  {
   "cell_type": "code",
   "execution_count": 32,
   "metadata": {},
   "outputs": [],
   "source": [
    "isMale = list(map(lambda value: int(value == \"male\"), list(modified.sex)))\n",
    "\n",
    "modified[\"isMale\"] = isMale\n",
    "modified = modified.drop(columns = \"sex\")"
   ]
  },
  {
   "cell_type": "code",
   "execution_count": 34,
   "metadata": {},
   "outputs": [],
   "source": [
    "isSmoker = list(map(lambda value: int(value == \"yes\"), list(modified.smoker)))\n",
    "\n",
    "modified[\"isSmoker\"] = isSmoker\n",
    "modified = modified.drop(columns = \"smoker\")"
   ]
  },
  {
   "source": [
    "isSouth = list(map(lambda value: int(value == \"southwest\" or value == \"southeast\"), list(modified.region)))\n",
    "isWest = list(map(lambda value: int(value == \"southwest\" or value == \"northwest\"), list(modified.region)))\n",
    "\n",
    "modified[\"isSouth\"] = isSouth\n",
    "modified[\"isWest\"] = isWest\n",
    "\n",
    "modified = modified.drop(columns = \"region\")"
   ],
   "cell_type": "code",
   "metadata": {},
   "execution_count": 37,
   "outputs": []
  },
  {
   "cell_type": "code",
   "execution_count": 38,
   "metadata": {},
   "outputs": [
    {
     "output_type": "execute_result",
     "data": {
      "text/plain": "      age     bmi  children      charges  isMale  isSmoker  isSouth  isWest\n0      19  27.900         0  16884.92400       0         1        1       1\n1      18  33.770         1   1725.55230       1         0        1       0\n2      28  33.000         3   4449.46200       1         0        1       0\n3      33  22.705         0  21984.47061       1         0        0       1\n4      32  28.880         0   3866.85520       1         0        0       1\n...   ...     ...       ...          ...     ...       ...      ...     ...\n1333   50  30.970         3  10600.54830       1         0        0       1\n1334   18  31.920         0   2205.98080       0         0        0       0\n1335   18  36.850         0   1629.83350       0         0        1       0\n1336   21  25.800         0   2007.94500       0         0        1       1\n1337   61  29.070         0  29141.36030       0         1        0       1\n\n[1338 rows x 8 columns]",
      "text/html": "<div>\n<style scoped>\n    .dataframe tbody tr th:only-of-type {\n        vertical-align: middle;\n    }\n\n    .dataframe tbody tr th {\n        vertical-align: top;\n    }\n\n    .dataframe thead th {\n        text-align: right;\n    }\n</style>\n<table border=\"1\" class=\"dataframe\">\n  <thead>\n    <tr style=\"text-align: right;\">\n      <th></th>\n      <th>age</th>\n      <th>bmi</th>\n      <th>children</th>\n      <th>charges</th>\n      <th>isMale</th>\n      <th>isSmoker</th>\n      <th>isSouth</th>\n      <th>isWest</th>\n    </tr>\n  </thead>\n  <tbody>\n    <tr>\n      <th>0</th>\n      <td>19</td>\n      <td>27.900</td>\n      <td>0</td>\n      <td>16884.92400</td>\n      <td>0</td>\n      <td>1</td>\n      <td>1</td>\n      <td>1</td>\n    </tr>\n    <tr>\n      <th>1</th>\n      <td>18</td>\n      <td>33.770</td>\n      <td>1</td>\n      <td>1725.55230</td>\n      <td>1</td>\n      <td>0</td>\n      <td>1</td>\n      <td>0</td>\n    </tr>\n    <tr>\n      <th>2</th>\n      <td>28</td>\n      <td>33.000</td>\n      <td>3</td>\n      <td>4449.46200</td>\n      <td>1</td>\n      <td>0</td>\n      <td>1</td>\n      <td>0</td>\n    </tr>\n    <tr>\n      <th>3</th>\n      <td>33</td>\n      <td>22.705</td>\n      <td>0</td>\n      <td>21984.47061</td>\n      <td>1</td>\n      <td>0</td>\n      <td>0</td>\n      <td>1</td>\n    </tr>\n    <tr>\n      <th>4</th>\n      <td>32</td>\n      <td>28.880</td>\n      <td>0</td>\n      <td>3866.85520</td>\n      <td>1</td>\n      <td>0</td>\n      <td>0</td>\n      <td>1</td>\n    </tr>\n    <tr>\n      <th>...</th>\n      <td>...</td>\n      <td>...</td>\n      <td>...</td>\n      <td>...</td>\n      <td>...</td>\n      <td>...</td>\n      <td>...</td>\n      <td>...</td>\n    </tr>\n    <tr>\n      <th>1333</th>\n      <td>50</td>\n      <td>30.970</td>\n      <td>3</td>\n      <td>10600.54830</td>\n      <td>1</td>\n      <td>0</td>\n      <td>0</td>\n      <td>1</td>\n    </tr>\n    <tr>\n      <th>1334</th>\n      <td>18</td>\n      <td>31.920</td>\n      <td>0</td>\n      <td>2205.98080</td>\n      <td>0</td>\n      <td>0</td>\n      <td>0</td>\n      <td>0</td>\n    </tr>\n    <tr>\n      <th>1335</th>\n      <td>18</td>\n      <td>36.850</td>\n      <td>0</td>\n      <td>1629.83350</td>\n      <td>0</td>\n      <td>0</td>\n      <td>1</td>\n      <td>0</td>\n    </tr>\n    <tr>\n      <th>1336</th>\n      <td>21</td>\n      <td>25.800</td>\n      <td>0</td>\n      <td>2007.94500</td>\n      <td>0</td>\n      <td>0</td>\n      <td>1</td>\n      <td>1</td>\n    </tr>\n    <tr>\n      <th>1337</th>\n      <td>61</td>\n      <td>29.070</td>\n      <td>0</td>\n      <td>29141.36030</td>\n      <td>0</td>\n      <td>1</td>\n      <td>0</td>\n      <td>1</td>\n    </tr>\n  </tbody>\n</table>\n<p>1338 rows × 8 columns</p>\n</div>"
     },
     "metadata": {},
     "execution_count": 38
    }
   ],
   "source": [
    "modified"
   ]
  },
  {
   "cell_type": "code",
   "execution_count": 63,
   "metadata": {},
   "outputs": [],
   "source": [
    "modified.to_csv(\"input/insurance_modified.csv\")"
   ]
  },
  {
   "cell_type": "code",
   "execution_count": 70,
   "metadata": {},
   "outputs": [
    {
     "output_type": "execute_result",
     "data": {
      "text/plain": "             Unnamed: 0\ncharges                \n16884.92400           0\n1725.55230            1\n4449.46200            2\n21984.47061           3\n3866.85520            4\n...                 ...\n10600.54830        1333\n2205.98080         1334\n1629.83350         1335\n2007.94500         1336\n29141.36030        1337\n\n[1338 rows x 1 columns]",
      "text/html": "<div>\n<style scoped>\n    .dataframe tbody tr th:only-of-type {\n        vertical-align: middle;\n    }\n\n    .dataframe tbody tr th {\n        vertical-align: top;\n    }\n\n    .dataframe thead th {\n        text-align: right;\n    }\n</style>\n<table border=\"1\" class=\"dataframe\">\n  <thead>\n    <tr style=\"text-align: right;\">\n      <th></th>\n      <th>Unnamed: 0</th>\n    </tr>\n    <tr>\n      <th>charges</th>\n      <th></th>\n    </tr>\n  </thead>\n  <tbody>\n    <tr>\n      <th>16884.92400</th>\n      <td>0</td>\n    </tr>\n    <tr>\n      <th>1725.55230</th>\n      <td>1</td>\n    </tr>\n    <tr>\n      <th>4449.46200</th>\n      <td>2</td>\n    </tr>\n    <tr>\n      <th>21984.47061</th>\n      <td>3</td>\n    </tr>\n    <tr>\n      <th>3866.85520</th>\n      <td>4</td>\n    </tr>\n    <tr>\n      <th>...</th>\n      <td>...</td>\n    </tr>\n    <tr>\n      <th>10600.54830</th>\n      <td>1333</td>\n    </tr>\n    <tr>\n      <th>2205.98080</th>\n      <td>1334</td>\n    </tr>\n    <tr>\n      <th>1629.83350</th>\n      <td>1335</td>\n    </tr>\n    <tr>\n      <th>2007.94500</th>\n      <td>1336</td>\n    </tr>\n    <tr>\n      <th>29141.36030</th>\n      <td>1337</td>\n    </tr>\n  </tbody>\n</table>\n<p>1338 rows × 1 columns</p>\n</div>"
     },
     "metadata": {},
     "execution_count": 70
    }
   ],
   "source": [
    "modified2 = pd.read_csv(\"input/insurance_charges.csv\", index_col = \"charges\")\n",
    "modified2"
   ]
  },
  {
   "cell_type": "code",
   "execution_count": 74,
   "metadata": {},
   "outputs": [],
   "source": [
    "# modified2 = modified2.drop(columns = \"Unnamed: 0\")\n",
    "modified2.to_csv(\"input/insurance_charges.csv\")"
   ]
  },
  {
   "cell_type": "code",
   "execution_count": 75,
   "metadata": {},
   "outputs": [
    {
     "output_type": "error",
     "ename": "KeyError",
     "evalue": "\"['Unnamed: 0'] not found in axis\"",
     "traceback": [
      "\u001b[1;31m---------------------------------------------------------------------------\u001b[0m",
      "\u001b[1;31mKeyError\u001b[0m                                  Traceback (most recent call last)",
      "\u001b[1;32m<ipython-input-75-b439e089b680>\u001b[0m in \u001b[0;36m<module>\u001b[1;34m\u001b[0m\n\u001b[1;32m----> 1\u001b[1;33m \u001b[0mmodified2\u001b[0m \u001b[1;33m=\u001b[0m \u001b[0mmodified2\u001b[0m\u001b[1;33m.\u001b[0m\u001b[0mdrop\u001b[0m\u001b[1;33m(\u001b[0m\u001b[1;34m\"Unnamed: 0\"\u001b[0m\u001b[1;33m)\u001b[0m\u001b[1;33m\u001b[0m\u001b[1;33m\u001b[0m\u001b[0m\n\u001b[0m",
      "\u001b[1;32m~\\AppData\\Roaming\\Python\\Python37\\site-packages\\pandas\\core\\frame.py\u001b[0m in \u001b[0;36mdrop\u001b[1;34m(self, labels, axis, index, columns, level, inplace, errors)\u001b[0m\n\u001b[0;32m   3995\u001b[0m             \u001b[0mlevel\u001b[0m\u001b[1;33m=\u001b[0m\u001b[0mlevel\u001b[0m\u001b[1;33m,\u001b[0m\u001b[1;33m\u001b[0m\u001b[1;33m\u001b[0m\u001b[0m\n\u001b[0;32m   3996\u001b[0m             \u001b[0minplace\u001b[0m\u001b[1;33m=\u001b[0m\u001b[0minplace\u001b[0m\u001b[1;33m,\u001b[0m\u001b[1;33m\u001b[0m\u001b[1;33m\u001b[0m\u001b[0m\n\u001b[1;32m-> 3997\u001b[1;33m             \u001b[0merrors\u001b[0m\u001b[1;33m=\u001b[0m\u001b[0merrors\u001b[0m\u001b[1;33m,\u001b[0m\u001b[1;33m\u001b[0m\u001b[1;33m\u001b[0m\u001b[0m\n\u001b[0m\u001b[0;32m   3998\u001b[0m         )\n\u001b[0;32m   3999\u001b[0m \u001b[1;33m\u001b[0m\u001b[0m\n",
      "\u001b[1;32m~\\AppData\\Roaming\\Python\\Python37\\site-packages\\pandas\\core\\generic.py\u001b[0m in \u001b[0;36mdrop\u001b[1;34m(self, labels, axis, index, columns, level, inplace, errors)\u001b[0m\n\u001b[0;32m   3934\u001b[0m         \u001b[1;32mfor\u001b[0m \u001b[0maxis\u001b[0m\u001b[1;33m,\u001b[0m \u001b[0mlabels\u001b[0m \u001b[1;32min\u001b[0m \u001b[0maxes\u001b[0m\u001b[1;33m.\u001b[0m\u001b[0mitems\u001b[0m\u001b[1;33m(\u001b[0m\u001b[1;33m)\u001b[0m\u001b[1;33m:\u001b[0m\u001b[1;33m\u001b[0m\u001b[1;33m\u001b[0m\u001b[0m\n\u001b[0;32m   3935\u001b[0m             \u001b[1;32mif\u001b[0m \u001b[0mlabels\u001b[0m \u001b[1;32mis\u001b[0m \u001b[1;32mnot\u001b[0m \u001b[1;32mNone\u001b[0m\u001b[1;33m:\u001b[0m\u001b[1;33m\u001b[0m\u001b[1;33m\u001b[0m\u001b[0m\n\u001b[1;32m-> 3936\u001b[1;33m                 \u001b[0mobj\u001b[0m \u001b[1;33m=\u001b[0m \u001b[0mobj\u001b[0m\u001b[1;33m.\u001b[0m\u001b[0m_drop_axis\u001b[0m\u001b[1;33m(\u001b[0m\u001b[0mlabels\u001b[0m\u001b[1;33m,\u001b[0m \u001b[0maxis\u001b[0m\u001b[1;33m,\u001b[0m \u001b[0mlevel\u001b[0m\u001b[1;33m=\u001b[0m\u001b[0mlevel\u001b[0m\u001b[1;33m,\u001b[0m \u001b[0merrors\u001b[0m\u001b[1;33m=\u001b[0m\u001b[0merrors\u001b[0m\u001b[1;33m)\u001b[0m\u001b[1;33m\u001b[0m\u001b[1;33m\u001b[0m\u001b[0m\n\u001b[0m\u001b[0;32m   3937\u001b[0m \u001b[1;33m\u001b[0m\u001b[0m\n\u001b[0;32m   3938\u001b[0m         \u001b[1;32mif\u001b[0m \u001b[0minplace\u001b[0m\u001b[1;33m:\u001b[0m\u001b[1;33m\u001b[0m\u001b[1;33m\u001b[0m\u001b[0m\n",
      "\u001b[1;32m~\\AppData\\Roaming\\Python\\Python37\\site-packages\\pandas\\core\\generic.py\u001b[0m in \u001b[0;36m_drop_axis\u001b[1;34m(self, labels, axis, level, errors)\u001b[0m\n\u001b[0;32m   3987\u001b[0m                 \u001b[0mlabels_missing\u001b[0m \u001b[1;33m=\u001b[0m \u001b[1;33m(\u001b[0m\u001b[0maxis\u001b[0m\u001b[1;33m.\u001b[0m\u001b[0mget_indexer_for\u001b[0m\u001b[1;33m(\u001b[0m\u001b[0mlabels\u001b[0m\u001b[1;33m)\u001b[0m \u001b[1;33m==\u001b[0m \u001b[1;33m-\u001b[0m\u001b[1;36m1\u001b[0m\u001b[1;33m)\u001b[0m\u001b[1;33m.\u001b[0m\u001b[0many\u001b[0m\u001b[1;33m(\u001b[0m\u001b[1;33m)\u001b[0m\u001b[1;33m\u001b[0m\u001b[1;33m\u001b[0m\u001b[0m\n\u001b[0;32m   3988\u001b[0m                 \u001b[1;32mif\u001b[0m \u001b[0merrors\u001b[0m \u001b[1;33m==\u001b[0m \u001b[1;34m\"raise\"\u001b[0m \u001b[1;32mand\u001b[0m \u001b[0mlabels_missing\u001b[0m\u001b[1;33m:\u001b[0m\u001b[1;33m\u001b[0m\u001b[1;33m\u001b[0m\u001b[0m\n\u001b[1;32m-> 3989\u001b[1;33m                     \u001b[1;32mraise\u001b[0m \u001b[0mKeyError\u001b[0m\u001b[1;33m(\u001b[0m\u001b[1;34mf\"{labels} not found in axis\"\u001b[0m\u001b[1;33m)\u001b[0m\u001b[1;33m\u001b[0m\u001b[1;33m\u001b[0m\u001b[0m\n\u001b[0m\u001b[0;32m   3990\u001b[0m \u001b[1;33m\u001b[0m\u001b[0m\n\u001b[0;32m   3991\u001b[0m             \u001b[0mslicer\u001b[0m \u001b[1;33m=\u001b[0m \u001b[1;33m[\u001b[0m\u001b[0mslice\u001b[0m\u001b[1;33m(\u001b[0m\u001b[1;32mNone\u001b[0m\u001b[1;33m)\u001b[0m\u001b[1;33m]\u001b[0m \u001b[1;33m*\u001b[0m \u001b[0mself\u001b[0m\u001b[1;33m.\u001b[0m\u001b[0mndim\u001b[0m\u001b[1;33m\u001b[0m\u001b[1;33m\u001b[0m\u001b[0m\n",
      "\u001b[1;31mKeyError\u001b[0m: \"['Unnamed: 0'] not found in axis\""
     ]
    }
   ],
   "source": [
    "modified2 = modified2.drop(\"Unnamed: 0\")"
   ]
  },
  {
   "cell_type": "code",
   "execution_count": 76,
   "metadata": {},
   "outputs": [
    {
     "output_type": "execute_result",
     "data": {
      "text/plain": "             Unnamed: 0\ncharges                \n16884.92400           0\n1725.55230            1\n4449.46200            2\n21984.47061           3\n3866.85520            4\n...                 ...\n10600.54830        1333\n2205.98080         1334\n1629.83350         1335\n2007.94500         1336\n29141.36030        1337\n\n[1338 rows x 1 columns]",
      "text/html": "<div>\n<style scoped>\n    .dataframe tbody tr th:only-of-type {\n        vertical-align: middle;\n    }\n\n    .dataframe tbody tr th {\n        vertical-align: top;\n    }\n\n    .dataframe thead th {\n        text-align: right;\n    }\n</style>\n<table border=\"1\" class=\"dataframe\">\n  <thead>\n    <tr style=\"text-align: right;\">\n      <th></th>\n      <th>Unnamed: 0</th>\n    </tr>\n    <tr>\n      <th>charges</th>\n      <th></th>\n    </tr>\n  </thead>\n  <tbody>\n    <tr>\n      <th>16884.92400</th>\n      <td>0</td>\n    </tr>\n    <tr>\n      <th>1725.55230</th>\n      <td>1</td>\n    </tr>\n    <tr>\n      <th>4449.46200</th>\n      <td>2</td>\n    </tr>\n    <tr>\n      <th>21984.47061</th>\n      <td>3</td>\n    </tr>\n    <tr>\n      <th>3866.85520</th>\n      <td>4</td>\n    </tr>\n    <tr>\n      <th>...</th>\n      <td>...</td>\n    </tr>\n    <tr>\n      <th>10600.54830</th>\n      <td>1333</td>\n    </tr>\n    <tr>\n      <th>2205.98080</th>\n      <td>1334</td>\n    </tr>\n    <tr>\n      <th>1629.83350</th>\n      <td>1335</td>\n    </tr>\n    <tr>\n      <th>2007.94500</th>\n      <td>1336</td>\n    </tr>\n    <tr>\n      <th>29141.36030</th>\n      <td>1337</td>\n    </tr>\n  </tbody>\n</table>\n<p>1338 rows × 1 columns</p>\n</div>"
     },
     "metadata": {},
     "execution_count": 76
    }
   ],
   "source": [
    "modified2"
   ]
  },
  {
   "cell_type": "code",
   "execution_count": null,
   "metadata": {},
   "outputs": [],
   "source": []
  }
 ]
}