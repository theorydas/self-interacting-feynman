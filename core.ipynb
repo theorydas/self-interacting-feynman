{
 "nbformat": 4,
 "nbformat_minor": 2,
 "metadata": {
  "language_info": {
   "name": "python",
   "codemirror_mode": {
    "name": "ipython",
    "version": 3
   },
   "version": "3.7.7-final"
  },
  "orig_nbformat": 2,
  "file_extension": ".py",
  "mimetype": "text/x-python",
  "name": "python",
  "npconvert_exporter": "python",
  "pygments_lexer": "ipython3",
  "version": 3,
  "kernelspec": {
   "name": "python3",
   "display_name": "Python 3"
  }
 },
 "cells": [
  {
   "cell_type": "code",
   "execution_count": 1,
   "metadata": {},
   "outputs": [],
   "source": [
    "import itertools"
   ]
  },
  {
   "cell_type": "code",
   "execution_count": 2,
   "metadata": {},
   "outputs": [],
   "source": [
    "def get_Groups(lst: list):\n",
    "    N = len(lst)\n",
    "    choice_indices = itertools.product(*[\n",
    "        range(k) for k in reversed(range(1, N, 2))])\n",
    "\n",
    "    for choice in choice_indices:\n",
    "        tmp = lst[:]\n",
    "        result = []\n",
    "\n",
    "        for index in choice:\n",
    "            result.append((tmp.pop(0), tmp.pop(index)))\n",
    "        yield result\n",
    "\n",
    "\n",
    "def checkForSame(lst: list) -> bool:\n",
    "  for pair in lst:\n",
    "    if pair[0][:2] == pair[1][:2] and pair[0][0] != \"F\":\n",
    "      return False\n",
    "  \n",
    "  return True\n",
    "\n",
    "\n",
    "def getUniqueContributions(n_power: int, k_term: int, ni: int, nf: int):\n",
    "  integralTerms = [f\"a_{i +1}\" for i in range(ni)]\n",
    "  integralTerms += [f\"F_{j +1}\" for j in range(k_term) for i in range(n_power)]\n",
    "  integralTerms += [f\"b_{i +ni +1}\" for i in range(nf)]\n",
    "\n",
    "  diagram_terms = list(get_Groups(integralTerms))\n",
    "\n",
    "  # Filtering\n",
    "  diagram_terms = list(filter(checkForSame, diagram_terms))\n",
    "  for i in diagram_terms:\n",
    "    i.sort(key = lambda a: a[1])\n",
    "\n",
    "  final_terms = []\n",
    "  [final_terms.append(x) for x in diagram_terms if x not in final_terms]\n",
    "  \n",
    "  return final_terms\n",
    "\n",
    "\n",
    "def CreateFeynmanDiagrams(n_power: int, k_term: int, ni: int, nf: int):\n",
    "  if (n_power * k_term +ni +nf) % 2 != 0:\n",
    "    return []\n",
    "  \n",
    "  a = getUniqueContributions(n_power, k_term, ni, nf)\n",
    "  \n",
    "  return a"
   ]
  },
  {
   "cell_type": "code",
   "execution_count": 7,
   "metadata": {},
   "outputs": [],
   "source": [
    "g = CreateFeynmanDiagrams(n_power = 4, k_term = 2, ni = 2, nf = 2)"
   ]
  },
  {
   "cell_type": "code",
   "execution_count": 8,
   "metadata": {},
   "outputs": [
    {
     "output_type": "execute_result",
     "data": {
      "text/plain": "60"
     },
     "metadata": {},
     "execution_count": 8
    }
   ],
   "source": [
    "len(g)"
   ]
  },
  {
   "cell_type": "code",
   "execution_count": null,
   "metadata": {},
   "outputs": [],
   "source": []
  }
 ]
}